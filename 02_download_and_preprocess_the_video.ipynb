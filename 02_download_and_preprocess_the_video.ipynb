{
 "cells": [
  {
   "cell_type": "markdown",
   "metadata": {},
   "source": [
    "# 2. Download and preprocess the video\n",
    "In this notebook, we'll download the preprocess the video that we will be applying style transfer to. The output of the tutorial will be the extracted audio file of the video, which will be reused when stitching the video back together, as well as the video separated into individual frames.\n",
    "\n",
    "The video that will be used in this tutorial is also of orangutans (just like the provided sample content images). The video is stored in a publib blob that we will download. However, for this section of the tutorial, you can choose to switch out the video with something of your own choice. Likewise, feel free to switch out the style image instead of using the provided image of a Renior painting.\n",
    "\n",
    "```md\n",
    "pytorch\n",
    "├── images/\n",
    "│   ├── orangutan/ [<-- this folder will contain all individual frames from the video]\n",
    "│   ├── sample_content_images/\n",
    "│   ├── sample_output_images/\n",
    "│   └── style_images/\n",
    "├── video/ [<-- create this new folder to put video content in]\n",
    "│   ├── orangutan.mp4 [<-- this is the downloaded video]\n",
    "│   └── orangutan.mp3 [<-- this is the extracted audio file from the video]\n",
    "├── style_transfer_script.py\n",
    "└── style_transfer_script.log\n",
    "```"
   ]
  },
  {
   "cell_type": "markdown",
   "metadata": {},
   "source": [
    "---"
   ]
  },
  {
   "cell_type": "markdown",
   "metadata": {},
   "source": [
    "Import utilities to help us display images and html embeddings:"
   ]
  },
  {
   "cell_type": "code",
   "execution_count": 1,
   "metadata": {},
   "outputs": [],
   "source": [
    "from IPython.display import HTML\n",
    "import os\n",
    "%load_ext dotenv\n",
    "%dotenv"
   ]
  },
  {
   "cell_type": "markdown",
   "metadata": {},
   "source": [
    "First, create the video folder store your video contents in."
   ]
  },
  {
   "cell_type": "code",
   "execution_count": 2,
   "metadata": {},
   "outputs": [],
   "source": [
    "%%bash\n",
    "mkdir pytorch/video"
   ]
  },
  {
   "cell_type": "markdown",
   "metadata": {},
   "source": [
    "Download the video that is stored in a public blob storage, located at https://happypathspublic.blob.core.windows.net/videos/orangutan.mp4"
   ]
  },
  {
   "cell_type": "code",
   "execution_count": 3,
   "metadata": {},
   "outputs": [
    {
     "name": "stderr",
     "output_type": "stream",
     "text": [
      "--2018-10-16 21:45:52--  https://happypathspublic.blob.core.windows.net/videos/orangutan.mp4\n",
      "Resolving happypathspublic.blob.core.windows.net (happypathspublic.blob.core.windows.net)... 52.239.214.164\n",
      "Connecting to happypathspublic.blob.core.windows.net (happypathspublic.blob.core.windows.net)|52.239.214.164|:443... connected.\n",
      "HTTP request sent, awaiting response... 200 OK\n",
      "Length: 7961293 (7.6M) [video/mp4]\n",
      "Saving to: ‘orangutan.mp4’\n",
      "\n",
      "     0K .......... .......... .......... .......... ..........  0% 89.2M 0s\n",
      "    50K .......... .......... .......... .......... ..........  1%  169M 0s\n",
      "   100K .......... .......... .......... .......... ..........  1%  124M 0s\n",
      "   150K .......... .......... .......... .......... ..........  2%  130M 0s\n",
      "   200K .......... .......... .......... .......... ..........  3%  343M 0s\n",
      "   250K .......... .......... .......... .......... ..........  3% 98.7M 0s\n",
      "   300K .......... .......... .......... .......... ..........  4%  321M 0s\n",
      "   350K .......... .......... .......... .......... ..........  5% 96.0M 0s\n",
      "   400K .......... .......... .......... .......... ..........  5%  284M 0s\n",
      "   450K .......... .......... .......... .......... ..........  6%  129M 0s\n",
      "   500K .......... .......... .......... .......... ..........  7%  277M 0s\n",
      "   550K .......... .......... .......... .......... ..........  7%  259M 0s\n",
      "   600K .......... .......... .......... .......... ..........  8%  171M 0s\n",
      "   650K .......... .......... .......... .......... ..........  9%  201M 0s\n",
      "   700K .......... .......... .......... .......... ..........  9%  282M 0s\n",
      "   750K .......... .......... .......... .......... .......... 10%  246M 0s\n",
      "   800K .......... .......... .......... .......... .......... 10%  201M 0s\n",
      "   850K .......... .......... .......... .......... .......... 11%  224M 0s\n",
      "   900K .......... .......... .......... .......... .......... 12%  314M 0s\n",
      "   950K .......... .......... .......... .......... .......... 12%  247M 0s\n",
      "  1000K .......... .......... .......... .......... .......... 13%  285M 0s\n",
      "  1050K .......... .......... .......... .......... .......... 14%  194M 0s\n",
      "  1100K .......... .......... .......... .......... .......... 14%  280M 0s\n",
      "  1150K .......... .......... .......... .......... .......... 15%  187M 0s\n",
      "  1200K .......... .......... .......... .......... .......... 16%  257M 0s\n",
      "  1250K .......... .......... .......... .......... .......... 16%  214M 0s\n",
      "  1300K .......... .......... .......... .......... .......... 17%  275M 0s\n",
      "  1350K .......... .......... .......... .......... .......... 18%  247M 0s\n",
      "  1400K .......... .......... .......... .......... .......... 18%  187M 0s\n",
      "  1450K .......... .......... .......... .......... .......... 19%  288M 0s\n",
      "  1500K .......... .......... .......... .......... .......... 19%  286M 0s\n",
      "  1550K .......... .......... .......... .......... .......... 20%  181M 0s\n",
      "  1600K .......... .......... .......... .......... .......... 21%  286M 0s\n",
      "  1650K .......... .......... .......... .......... .......... 21%  282M 0s\n",
      "  1700K .......... .......... .......... .......... .......... 22%  290M 0s\n",
      "  1750K .......... .......... .......... .......... .......... 23%  185M 0s\n",
      "  1800K .......... .......... .......... .......... .......... 23%  279M 0s\n",
      "  1850K .......... .......... .......... .......... .......... 24%  284M 0s\n",
      "  1900K .......... .......... .......... .......... .......... 25%  191M 0s\n",
      "  1950K .......... .......... .......... .......... .......... 25%  234M 0s\n",
      "  2000K .......... .......... .......... .......... .......... 26%  288M 0s\n",
      "  2050K .......... .......... .......... .......... .......... 27%  197M 0s\n",
      "  2100K .......... .......... .......... .......... .......... 27%  271M 0s\n",
      "  2150K .......... .......... .......... .......... .......... 28%  246M 0s\n",
      "  2200K .......... .......... .......... .......... .......... 28%  187M 0s\n",
      "  2250K .......... .......... .......... .......... .......... 29%  278M 0s\n",
      "  2300K .......... .......... .......... .......... .......... 30%  286M 0s\n",
      "  2350K .......... .......... .......... .......... .......... 30%  184M 0s\n",
      "  2400K .......... .......... .......... .......... .......... 31%  281M 0s\n",
      "  2450K .......... .......... .......... .......... .......... 32%  195M 0s\n",
      "  2500K .......... .......... .......... .......... .......... 32%  296M 0s\n",
      "  2550K .......... .......... .......... .......... .......... 33%  247M 0s\n",
      "  2600K .......... .......... .......... .......... .......... 34%  189M 0s\n",
      "  2650K .......... .......... .......... .......... .......... 34%  276M 0s\n",
      "  2700K .......... .......... .......... .......... .......... 35%  285M 0s\n",
      "  2750K .......... .......... .......... .......... .......... 36%  169M 0s\n",
      "  2800K .......... .......... .......... .......... .......... 36%  288M 0s\n",
      "  2850K .......... .......... .......... .......... .......... 37%  194M 0s\n",
      "  2900K .......... .......... .......... .......... .......... 37%  278M 0s\n",
      "  2950K .......... .......... .......... .......... .......... 38%  253M 0s\n",
      "  3000K .......... .......... .......... .......... .......... 39%  195M 0s\n",
      "  3050K .......... .......... .......... .......... .......... 39%  275M 0s\n",
      "  3100K .......... .......... .......... .......... .......... 40%  200M 0s\n",
      "  3150K .......... .......... .......... .......... .......... 41%  237M 0s\n",
      "  3200K .......... .......... .......... .......... .......... 41%  276M 0s\n",
      "  3250K .......... .......... .......... .......... .......... 42%  204M 0s\n",
      "  3300K .......... .......... .......... .......... .......... 43%  227M 0s\n",
      "  3350K .......... .......... .......... .......... .......... 43%  253M 0s\n",
      "  3400K .......... .......... .......... .......... .......... 44%  280M 0s\n",
      "  3450K .......... .......... .......... .......... .......... 45%  283M 0s\n",
      "  3500K .......... .......... .......... .......... .......... 45%  287M 0s\n",
      "  3550K .......... .......... .......... .......... .......... 46%  244M 0s\n",
      "  3600K .......... .......... .......... .......... .......... 46%  266M 0s\n",
      "  3650K .......... .......... .......... .......... .......... 47%  287M 0s\n",
      "  3700K .......... .......... .......... .......... .......... 48%  287M 0s\n",
      "  3750K .......... .......... .......... .......... .......... 48%  241M 0s\n",
      "  3800K .......... .......... .......... .......... .......... 49%  406M 0s\n",
      "  3850K .......... .......... .......... .......... .......... 50%  356M 0s\n",
      "  3900K .......... .......... .......... .......... .......... 50%  272M 0s\n",
      "  3950K .......... .......... .......... .......... .......... 51%  246M 0s\n",
      "  4000K .......... .......... .......... .......... .......... 52%  289M 0s\n",
      "  4050K .......... .......... .......... .......... .......... 52% 4.76M 0s\n",
      "  4100K .......... .......... .......... .......... .......... 53%  277M 0s\n",
      "  4150K .......... .......... .......... .......... .......... 54%  198M 0s\n",
      "  4200K .......... .......... .......... .......... .......... 54%  279M 0s\n",
      "  4250K .......... .......... .......... .......... .......... 55%  343M 0s\n",
      "  4300K .......... .......... .......... .......... .......... 55%  230M 0s\n",
      "  4350K .......... .......... .......... .......... .......... 56%  297M 0s\n",
      "  4400K .......... .......... .......... .......... .......... 57%  271M 0s\n",
      "  4450K .......... .......... .......... .......... .......... 57%  228M 0s\n",
      "  4500K .......... .......... .......... .......... .......... 58%  338M 0s\n",
      "  4550K .......... .......... .......... .......... .......... 59%  311M 0s\n",
      "  4600K .......... .......... .......... .......... .......... 59%  213M 0s\n",
      "  4650K .......... .......... .......... .......... .......... 60%  309M 0s\n",
      "  4700K .......... .......... .......... .......... .......... 61%  303M 0s\n",
      "  4750K .......... .......... .......... .......... .......... 61%  352M 0s\n",
      "  4800K .......... .......... .......... .......... .......... 62%  197M 0s\n",
      "  4850K .......... .......... .......... .......... .......... 63%  304M 0s\n",
      "  4900K .......... .......... .......... .......... .......... 63%  221M 0s\n",
      "  4950K .......... .......... .......... .......... .......... 64%  299M 0s\n",
      "  5000K .......... .......... .......... .......... .......... 64%  273M 0s\n",
      "  5050K .......... .......... .......... .......... .......... 65%  212M 0s\n",
      "  5100K .......... .......... .......... .......... .......... 66%  376M 0s\n",
      "  5150K .......... .......... .......... .......... .......... 66%  330M 0s\n",
      "  5200K .......... .......... .......... .......... .......... 67%  200M 0s\n",
      "  5250K .......... .......... .......... .......... .......... 68%  338M 0s\n",
      "  5300K .......... .......... .......... .......... .......... 68%  293M 0s\n",
      "  5350K .......... .......... .......... .......... .......... 69%  224M 0s\n",
      "  5400K .......... .......... .......... .......... .......... 70%  290M 0s\n",
      "  5450K .......... .......... .......... .......... .......... 70%  336M 0s\n",
      "  5500K .......... .......... .......... .......... .......... 71%  223M 0s\n",
      "  5550K .......... .......... .......... .......... .......... 72%  328M 0s\n",
      "  5600K .......... .......... .......... .......... .......... 72%  288M 0s\n",
      "  5650K .......... .......... .......... .......... .......... 73%  226M 0s\n",
      "  5700K .......... .......... .......... .......... .......... 73%  311M 0s\n",
      "  5750K .......... .......... .......... .......... .......... 74%  333M 0s\n",
      "  5800K .......... .......... .......... .......... .......... 75%  171M 0s\n",
      "  5850K .......... .......... .......... .......... .......... 75%  330M 0s\n",
      "  5900K .......... .......... .......... .......... .......... 76%  322M 0s\n",
      "  5950K .......... .......... .......... .......... .......... 77%  231M 0s\n",
      "  6000K .......... .......... .......... .......... .......... 77%  269M 0s\n",
      "  6050K .......... .......... .......... .......... .......... 78%  230M 0s\n",
      "  6100K .......... .......... .......... .......... .......... 79%  321M 0s\n",
      "  6150K .......... .......... .......... .......... .......... 79%  323M 0s\n",
      "  6200K .......... .......... .......... .......... .......... 80%  213M 0s\n",
      "  6250K .......... .......... .......... .......... .......... 81%  260M 0s\n",
      "  6300K .......... .......... .......... .......... .......... 81%  319M 0s\n",
      "  6350K .......... .......... .......... .......... .......... 82%  207M 0s\n",
      "  6400K .......... .......... .......... .......... .......... 82%  307M 0s\n",
      "  6450K .......... .......... .......... .......... .......... 83%  446M 0s\n",
      "  6500K .......... .......... .......... .......... .......... 84%  443M 0s\n",
      "  6550K .......... .......... .......... .......... .......... 84%  255M 0s\n",
      "  6600K .......... .......... .......... .......... .......... 85%  377M 0s\n",
      "  6650K .......... .......... .......... .......... .......... 86%  444M 0s\n",
      "  6700K .......... .......... .......... .......... .......... 86%  408M 0s\n",
      "  6750K .......... .......... .......... .......... .......... 87%  287M 0s\n",
      "  6800K .......... .......... .......... .......... .......... 88%  345M 0s\n",
      "  6850K .......... .......... .......... .......... .......... 88%  426M 0s\n",
      "  6900K .......... .......... .......... .......... .......... 89%  441M 0s\n",
      "  6950K .......... .......... .......... .......... .......... 90%  451M 0s\n",
      "  7000K .......... .......... .......... .......... .......... 90%  245M 0s\n",
      "  7050K .......... .......... .......... .......... .......... 91%  297M 0s\n",
      "  7100K .......... .......... .......... .......... .......... 91%  322M 0s\n",
      "  7150K .......... .......... .......... .......... .......... 92%  266M 0s\n",
      "  7200K .......... .......... .......... .......... .......... 93%  270M 0s\n",
      "  7250K .......... .......... .......... .......... .......... 93%  334M 0s\n",
      "  7300K .......... .......... .......... .......... .......... 94%  337M 0s\n",
      "  7350K .......... .......... .......... .......... .......... 95%  296M 0s\n",
      "  7400K .......... .......... .......... .......... .......... 95%  295M 0s\n",
      "  7450K .......... .......... .......... .......... .......... 96%  352M 0s\n",
      "  7500K .......... .......... .......... .......... .......... 97%  349M 0s\n",
      "  7550K .......... .......... .......... .......... .......... 97%  354M 0s\n",
      "  7600K .......... .......... .......... .......... .......... 98%  278M 0s\n",
      "  7650K .......... .......... .......... .......... .......... 99%  285M 0s\n",
      "  7700K .......... .......... .......... .......... .......... 99%  436M 0s\n",
      "  7750K .......... .......... ....                            100%  456M=0.04s\n",
      "\n",
      "2018-10-16 21:45:52 (188 MB/s) - ‘orangutan.mp4’ saved [7961293/7961293]\n",
      "\n"
     ]
    }
   ],
   "source": [
    "%%bash \n",
    "cd pytorch/video && \n",
    "    wget https://happypathspublic.blob.core.windows.net/videos/orangutan.mp4"
   ]
  },
  {
   "cell_type": "markdown",
   "metadata": {},
   "source": [
    "Set the environment variable __VIDEO_NAME__ to the name of the video as this will be used throughout the tutorial for convinience."
   ]
  },
  {
   "cell_type": "code",
   "execution_count": 4,
   "metadata": {},
   "outputs": [
    {
     "name": "stdout",
     "output_type": "stream",
     "text": [
      "VIDEO_NAME=orangutan\n"
     ]
    }
   ],
   "source": [
    "%%bash\n",
    "dotenv set VIDEO_NAME orangutan"
   ]
  },
  {
   "cell_type": "markdown",
   "metadata": {},
   "source": [
    "Lets check out the video so we know what it looks like before hand:"
   ]
  },
  {
   "cell_type": "code",
   "execution_count": 5,
   "metadata": {},
   "outputs": [
    {
     "data": {
      "text/html": [
       "    <video width=\"360\" height=\"360\" controls>          <source src=\"pytorch/video/orangutan.mp4\" type=\"video/mp4\">     </video>"
      ],
      "text/plain": [
       "<IPython.core.display.HTML object>"
      ]
     },
     "execution_count": 5,
     "metadata": {},
     "output_type": "execute_result"
    }
   ],
   "source": [
    "%dotenv\n",
    "HTML('\\\n",
    "    <video width=\"360\" height=\"360\" controls> \\\n",
    "         <source src=\"pytorch/video/{0}.mp4\" type=\"video/mp4\"> \\\n",
    "    </video>'\\\n",
    "    .format(os.getenv('VIDEO_NAME'))\n",
    ")"
   ]
  },
  {
   "cell_type": "markdown",
   "metadata": {},
   "source": [
    "Next, use __ffmpeg__ to extract the audio file and save it as orangutan.mp3 under the video directory."
   ]
  },
  {
   "cell_type": "code",
   "execution_count": 6,
   "metadata": {},
   "outputs": [
    {
     "name": "stderr",
     "output_type": "stream",
     "text": [
      "ffmpeg version 3.4.4-0ubuntu0.18.04.1 Copyright (c) 2000-2018 the FFmpeg developers\n",
      "  built with gcc 7 (Ubuntu 7.3.0-16ubuntu3)\n",
      "  configuration: --prefix=/usr --extra-version=0ubuntu0.18.04.1 --toolchain=hardened --libdir=/usr/lib/x86_64-linux-gnu --incdir=/usr/include/x86_64-linux-gnu --enable-gpl --disable-stripping --enable-avresample --enable-avisynth --enable-gnutls --enable-ladspa --enable-libass --enable-libbluray --enable-libbs2b --enable-libcaca --enable-libcdio --enable-libflite --enable-libfontconfig --enable-libfreetype --enable-libfribidi --enable-libgme --enable-libgsm --enable-libmp3lame --enable-libmysofa --enable-libopenjpeg --enable-libopenmpt --enable-libopus --enable-libpulse --enable-librubberband --enable-librsvg --enable-libshine --enable-libsnappy --enable-libsoxr --enable-libspeex --enable-libssh --enable-libtheora --enable-libtwolame --enable-libvorbis --enable-libvpx --enable-libwavpack --enable-libwebp --enable-libx265 --enable-libxml2 --enable-libxvid --enable-libzmq --enable-libzvbi --enable-omx --enable-openal --enable-opengl --enable-sdl2 --enable-libdc1394 --enable-libdrm --enable-libiec61883 --enable-chromaprint --enable-frei0r --enable-libopencv --enable-libx264 --enable-shared\n",
      "  libavutil      55. 78.100 / 55. 78.100\n",
      "  libavcodec     57.107.100 / 57.107.100\n",
      "  libavformat    57. 83.100 / 57. 83.100\n",
      "  libavdevice    57. 10.100 / 57. 10.100\n",
      "  libavfilter     6.107.100 /  6.107.100\n",
      "  libavresample   3.  7.  0 /  3.  7.  0\n",
      "  libswscale      4.  8.100 /  4.  8.100\n",
      "  libswresample   2.  9.100 /  2.  9.100\n",
      "  libpostproc    54.  7.100 / 54.  7.100\n",
      "Input #0, mov,mp4,m4a,3gp,3g2,mj2, from 'orangutan.mp4':\n",
      "  Metadata:\n",
      "    major_brand     : isom\n",
      "    minor_version   : 512\n",
      "    compatible_brands: isomiso2avc1mp41\n",
      "    encoder         : Lavf58.12.100\n",
      "  Duration: 00:00:27.48, start: 0.000000, bitrate: 2317 kb/s\n",
      "    Stream #0:0(und): Video: h264 (High) (avc1 / 0x31637661), yuv420p, 720x720, 2242 kb/s, 30 fps, 30 tbr, 15360 tbn, 60 tbc (default)\n",
      "    Metadata:\n",
      "      handler_name    : VideoHandler\n",
      "    Stream #0:1(eng): Audio: aac (LC) (mp4a / 0x6134706D), 48000 Hz, mono, fltp, 69 kb/s (default)\n",
      "    Metadata:\n",
      "      handler_name    : SoundHandler\n",
      "Stream mapping:\n",
      "  Stream #0:1 -> #0:0 (aac (native) -> mp3 (libmp3lame))\n",
      "Press [q] to stop, [?] for help\n",
      "Output #0, mp3, to 'orangutan.mp3':\n",
      "  Metadata:\n",
      "    major_brand     : isom\n",
      "    minor_version   : 512\n",
      "    compatible_brands: isomiso2avc1mp41\n",
      "    TSSE            : Lavf57.83.100\n",
      "    Stream #0:0(eng): Audio: mp3 (libmp3lame), 48000 Hz, mono, fltp (default)\n",
      "    Metadata:\n",
      "      handler_name    : SoundHandler\n",
      "      encoder         : Lavc57.107.100 libmp3lame\n",
      "size=     215kB time=00:00:27.45 bitrate=  64.2kbits/s speed=76.3x    \n",
      "video:0kB audio:215kB subtitle:0kB other streams:0kB global headers:0kB muxing overhead: 0.154658%\n"
     ]
    }
   ],
   "source": [
    "%%bash \n",
    "cd pytorch/video &&\n",
    "    ffmpeg -i ${VIDEO_NAME}.mp4 ${VIDEO_NAME}.mp3"
   ]
  },
  {
   "cell_type": "markdown",
   "metadata": {},
   "source": [
    "Finally, break up the frames of the video into separate individual images. The images will be saved inside a new folder under the `/images` directory, called `/orangutan`."
   ]
  },
  {
   "cell_type": "code",
   "execution_count": 7,
   "metadata": {},
   "outputs": [
    {
     "name": "stderr",
     "output_type": "stream",
     "text": [
      "Input #0, mov,mp4,m4a,3gp,3g2,mj2, from '../../video/orangutan.mp4':\n",
      "  Metadata:\n",
      "    major_brand     : isom\n",
      "    minor_version   : 512\n",
      "    compatible_brands: isomiso2avc1mp41\n",
      "    encoder         : Lavf58.12.100\n",
      "  Duration: 00:00:27.48, start: 0.000000, bitrate: 2317 kb/s\n",
      "    Stream #0:0(und): Video: h264 (High) (avc1 / 0x31637661), yuv420p, 720x720, 2242 kb/s, 30 fps, 30 tbr, 15360 tbn, 60 tbc (default)\n",
      "    Metadata:\n",
      "      handler_name    : VideoHandler\n",
      "    Stream #0:1(eng): Audio: aac (LC) (mp4a / 0x6134706D), 48000 Hz, mono, fltp, 69 kb/s (default)\n",
      "    Metadata:\n",
      "      handler_name    : SoundHandler\n",
      "Stream mapping:\n",
      "  Stream #0:0 -> #0:0 (h264 (native) -> mjpeg (native))\n",
      "Press [q] to stop, [?] for help\n",
      "[swscaler @ 0x55bdafba7b60] deprecated pixel format used, make sure you did set range correctly\n",
      "Output #0, image2, to '%05d_orangutan.jpg':\n",
      "  Metadata:\n",
      "    major_brand     : isom\n",
      "    minor_version   : 512\n",
      "    compatible_brands: isomiso2avc1mp41\n",
      "    encoder         : Lavf57.83.100\n",
      "    Stream #0:0(und): Video: mjpeg, yuvj420p(pc), 720x720, q=2-31, 200 kb/s, 30 fps, 30 tbn, 30 tbc (default)\n",
      "    Metadata:\n",
      "      handler_name    : VideoHandler\n",
      "      encoder         : Lavc57.107.100 mjpeg\n",
      "    Side data:\n",
      "      cpb: bitrate max/min/avg: 0/0/200000 buffer size: 0 vbv_delay: -1\n",
      "frame=  142 fps=0.0 q=24.8 size=N/A time=00:00:04.73 bitrate=N/A speed=9.42x    \r",
      "frame=  291 fps=289 q=24.8 size=N/A time=00:00:09.70 bitrate=N/A speed=9.65x    \r",
      "frame=  442 fps=293 q=24.8 size=N/A time=00:00:14.73 bitrate=N/A speed=9.78x    \r",
      "frame=  595 fps=296 q=24.8 size=N/A time=00:00:19.83 bitrate=N/A speed=9.87x    \r",
      "frame=  741 fps=295 q=24.8 size=N/A time=00:00:24.70 bitrate=N/A speed=9.83x    \r",
      "frame=  823 fps=297 q=24.8 Lsize=N/A time=00:00:27.43 bitrate=N/A speed= 9.9x    \n",
      "video:17560kB audio:0kB subtitle:0kB other streams:0kB global headers:0kB muxing overhead: unknown\n"
     ]
    }
   ],
   "source": [
    "%%bash\n",
    "cd pytorch/images/ &&\n",
    "    mkdir ${VIDEO_NAME} && cd ${VIDEO_NAME} &&\n",
    "    ffmpeg -i ../../video/${VIDEO_NAME}.mp4 %05d_${VIDEO_NAME}.jpg -hide_banner"
   ]
  },
  {
   "cell_type": "markdown",
   "metadata": {},
   "source": [
    "To make sure that the frames were successfully extracted, print out the number of images under `/pytorch/images/orangutan`. For the orangutan video, that number should be 823 individual images:"
   ]
  },
  {
   "cell_type": "code",
   "execution_count": 8,
   "metadata": {},
   "outputs": [
    {
     "name": "stdout",
     "output_type": "stream",
     "text": [
      "823\r\n"
     ]
    }
   ],
   "source": [
    "!cd pytorch/images/${VIDEO_NAME} && ls -1 | wc -l"
   ]
  },
  {
   "cell_type": "markdown",
   "metadata": {},
   "source": [
    "---"
   ]
  },
  {
   "cell_type": "markdown",
   "metadata": {},
   "source": [
    "## Conclusion\n",
    "In this notebook, we downloaded the video that we will be applying neural style transfer to, and processed it so that we have the individual frames and audio track as seperate entities. In other scenarios, this can be thought of as preprocessing the data so that it is ready to be scored. \n",
    "\n",
    "Next, we will use the style transfer script from the previous notebook to batch apply style transfer to all extracted frames using Batch AI in Azure. But first, we need to [setup Azure so that we have the appropriate credentials and storage accounts.](./03_setup_azure.ipynb)"
   ]
  }
 ],
 "metadata": {
  "kernelspec": {
   "display_name": "Python [conda env:batchscoringdl]",
   "language": "python",
   "name": "conda-env-batchscoringdl-py"
  },
  "language_info": {
   "codemirror_mode": {
    "name": "ipython",
    "version": 3
   },
   "file_extension": ".py",
   "mimetype": "text/x-python",
   "name": "python",
   "nbconvert_exporter": "python",
   "pygments_lexer": "ipython3",
   "version": "3.6.6"
  }
 },
 "nbformat": 4,
 "nbformat_minor": 2
}

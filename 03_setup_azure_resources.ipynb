{
 "cells": [
  {
   "cell_type": "markdown",
   "metadata": {},
   "source": [
    "# 3. Setup Azure\n",
    "Now that we've testing things locally, we're ready to use Azure to scale up our workload, automate and operationalize the job. \n",
    "\n",
    "First, we will walk through setting up credentials and settings for connecting to and creating resources in Azure. Then we will create an Azure blob storage which will be used throughout the tutorial as our object store. "
   ]
  },
  {
   "cell_type": "markdown",
   "metadata": {},
   "source": [
    "---"
   ]
  },
  {
   "cell_type": "markdown",
   "metadata": {},
   "source": [
    "Import utilities."
   ]
  },
  {
   "cell_type": "code",
   "execution_count": 1,
   "metadata": {},
   "outputs": [],
   "source": [
    "import re"
   ]
  },
  {
   "cell_type": "markdown",
   "metadata": {},
   "source": [
    "## Setting up our credentials\n",
    "In order to deploy and use resources on Azure, we have to set up a [Service Principal](https://docs.microsoft.com/en-us/cli/azure/create-an-azure-service-principal-azure-cli?toc=%2Fen-us%2Fazure%2Fazure-resource-manager%2Ftoc.json&bc=%2Fen-us%2Fazure%2Fbread%2Ftoc.json&view=azure-cli-latest) to authenticate our deployments. \n",
    "\n",
    "We'll also need to make sure we've identified which subscription_id and region to use. For this project, we'll also create a new resource group to contain all the resources that we create.\n",
    "\n",
    "This section of the notebook will walk through setting up these credentials using the __az cli__."
   ]
  },
  {
   "cell_type": "markdown",
   "metadata": {},
   "source": [
    "Use the __az cli__ to generate service principal credentials."
   ]
  },
  {
   "cell_type": "code",
   "execution_count": 2,
   "metadata": {},
   "outputs": [],
   "source": [
    "credentials = !az ad sp create-for-rbac -o json --query \"[appId, password, tenant]\""
   ]
  },
  {
   "cell_type": "markdown",
   "metadata": {},
   "source": [
    "Use regex to pull out the __appId__ (which we'll call __client id__), the __password__ (which we'll call __secret__), and the tenant id."
   ]
  },
  {
   "cell_type": "code",
   "execution_count": 3,
   "metadata": {},
   "outputs": [],
   "source": [
    "[aad_client_id, aad_secret, aad_tenant] = re.findall(\"\\w{8}[-]\\w{4}[-]\\w{4}[-]\\w{4}[-]\\w{12}\", str(credentials))"
   ]
  },
  {
   "cell_type": "markdown",
   "metadata": {},
   "source": [
    "Since we'll use these credentials throughout the tutorial, lets same them into our .env file."
   ]
  },
  {
   "cell_type": "code",
   "execution_count": 4,
   "metadata": {},
   "outputs": [
    {
     "name": "stdout",
     "output_type": "stream",
     "text": [
      "AAD_CLIENT_ID=a1442f2e-d510-4ee1-a6d8-1c61438429e7\n",
      "AAD_SECRET=398c040e-ccf2-4930-9dbb-5d0e4bafd454\n",
      "AAD_TENANT=72f988bf-86f1-41af-91ab-2d7cd011db47\n"
     ]
    }
   ],
   "source": [
    "!dotenv set AAD_CLIENT_ID $aad_client_id\n",
    "!dotenv set AAD_SECRET $aad_secret\n",
    "!dotenv set AAD_TENANT $aad_tenant"
   ]
  },
  {
   "cell_type": "markdown",
   "metadata": {},
   "source": [
    "Select which subscription you'd like to use for this project:\n",
    "1. Print out all available subscriptions associated with your account\n",
    "2. Set the Subscription ID you'd like to use as variable `subscription_id`\n",
    "3. In the __az cli__, set the active subscription"
   ]
  },
  {
   "cell_type": "code",
   "execution_count": 5,
   "metadata": {},
   "outputs": [
    {
     "name": "stdout",
     "output_type": "stream",
     "text": [
      "Name                                            CloudName    SubscriptionId                        State    IsDefault\r\n",
      "----------------------------------------------  -----------  ------------------------------------  -------  -----------\r\n",
      "js_cloudai_subscription                         AzureCloud   6dccbc1d-7b59-4ed6-bf8c-9747be083210  Enabled  False\r\n",
      "Azure Stack Diagnostics CI and Production VaaS  AzureCloud   a8183b2d-7a4c-45e9-8736-dac11b84ff14  Enabled  False\r\n",
      "Azure Cat E2E                                   AzureCloud   fc4ea3c9-1d30-4f18-b33b-7404e7da0123  Enabled  False\r\n",
      "Core-ES-BLD                                     AzureCloud   54e18c35-3863-4a17-8e52-b5aa1e65847e  Enabled  False\r\n",
      "Cosmos_WDG_Core_BnB_100348                      AzureCloud   dae41bd3-9db4-4b9b-943e-832b57cac828  Enabled  False\r\n",
      "Batch-Portal-Test-In-Prod                       AzureCloud   21abd678-18c5-4660-9fdd-8c5ba6b6fe1f  Enabled  False\r\n",
      "Boston Team Danielle                            AzureCloud   edf507a2-6235-46c5-b560-fd463ba2e771  Enabled  True\r\n",
      "Boston DS Dev                                   AzureCloud   0ca618d2-22a8-413a-96d0-0f1b531129c3  Enabled  False\r\n",
      "WAT-Batch-Analytics-SQL-DM                      AzureCloud   676a0154-0201-4b3e-a9ee-abcfb8a7e670  Enabled  False\r\n",
      "US Deployments                                  AzureCloud   75782cc3-a246-47f9-af25-b03eff851f76  Enabled  False\r\n"
     ]
    }
   ],
   "source": [
    "!az account list -o table"
   ]
  },
  {
   "cell_type": "code",
   "execution_count": 6,
   "metadata": {},
   "outputs": [],
   "source": [
    "subscription_id = \"edf507a2-6235-46c5-b560-fd463ba2e771\""
   ]
  },
  {
   "cell_type": "code",
   "execution_count": 7,
   "metadata": {},
   "outputs": [],
   "source": [
    "!az account set -s $subscription_id"
   ]
  },
  {
   "cell_type": "markdown",
   "metadata": {},
   "source": [
    "Choose a name for the resource group you'll be using for this project. You can think of resource groups as logical containers for the resources you'll create in this tutorial."
   ]
  },
  {
   "cell_type": "code",
   "execution_count": 8,
   "metadata": {},
   "outputs": [],
   "source": [
    "resource_group = \"jiata-batchscoringdl-0\""
   ]
  },
  {
   "cell_type": "markdown",
   "metadata": {},
   "source": [
    "Select the region you wish to deploy your resources in. \n",
    "\n",
    "NOTE: You can see a list of the regions under the key 'name' when running the command `az account list-locations`. \n",
    "\n",
    "NOTE: Not all regions support GPU enabled VMs. You can check [here](https://azure.microsoft.com/en-us/pricing/details/virtual-machines/linux/)"
   ]
  },
  {
   "cell_type": "code",
   "execution_count": 9,
   "metadata": {},
   "outputs": [],
   "source": [
    "region = \"eastus\""
   ]
  },
  {
   "cell_type": "markdown",
   "metadata": {},
   "source": [
    "Since we'll be using these settings throughout this tutorial, we'll also same them to the `.env` file."
   ]
  },
  {
   "cell_type": "code",
   "execution_count": 10,
   "metadata": {},
   "outputs": [
    {
     "name": "stdout",
     "output_type": "stream",
     "text": [
      "SUBSCRIPTION_ID=edf507a2-6235-46c5-b560-fd463ba2e771\n",
      "RESOURCE_GROUP=jiata-batchscoringdl-0\n",
      "REGION=eastus\n"
     ]
    }
   ],
   "source": [
    "!dotenv set SUBSCRIPTION_ID $subscription_id\n",
    "!dotenv set RESOURCE_GROUP $resource_group\n",
    "!dotenv set REGION $region"
   ]
  },
  {
   "cell_type": "markdown",
   "metadata": {},
   "source": [
    "## Setting up Azure blob storage\n",
    "In this section of the notebook, we'll create an Azure blob storage that we'll use throughout the tutorial. This object store will be used to store input and output images as well as any supplementary data such as logs and other scripts that will be used in this workflow."
   ]
  },
  {
   "cell_type": "markdown",
   "metadata": {},
   "source": [
    "First, create the resource group which we'll put our storage account and all other resources for this project into."
   ]
  },
  {
   "cell_type": "code",
   "execution_count": 11,
   "metadata": {},
   "outputs": [
    {
     "name": "stdout",
     "output_type": "stream",
     "text": [
      "{\r\n",
      "  \"id\": \"/subscriptions/edf507a2-6235-46c5-b560-fd463ba2e771/resourceGroups/jiata-batchscoringdl-0\",\r\n",
      "  \"location\": \"eastus\",\r\n",
      "  \"managedBy\": null,\r\n",
      "  \"name\": \"jiata-batchscoringdl-0\",\r\n",
      "  \"properties\": {\r\n",
      "    \"provisioningState\": \"Succeeded\"\r\n",
      "  },\r\n",
      "  \"tags\": null\r\n",
      "}\r\n"
     ]
    }
   ],
   "source": [
    "!az group create -l $region -n $resource_group"
   ]
  },
  {
   "cell_type": "markdown",
   "metadata": {},
   "source": [
    "Then, create the storage account:\n",
    "1. Select a name for your storage account and assign it to the variable `storage_account_name`\n",
    "2. Use the __az cli__ to create the account"
   ]
  },
  {
   "cell_type": "code",
   "execution_count": 16,
   "metadata": {},
   "outputs": [],
   "source": [
    "storage_account_name = \"jiatabsdlstorage\""
   ]
  },
  {
   "cell_type": "code",
   "execution_count": 17,
   "metadata": {},
   "outputs": [
    {
     "name": "stdout",
     "output_type": "stream",
     "text": [
      "\u001b[K\"Succeeded\" ..\n",
      "\u001b[0m"
     ]
    }
   ],
   "source": [
    "!az storage account create -n $storage_account_name -g $resource_group --query 'provisioningState'"
   ]
  },
  {
   "cell_type": "markdown",
   "metadata": {},
   "source": [
    "Use the __az cli__ to grab the keys of the storage account that was just created. The `--quote '[0].value'` part of the command simply means to select the _value_ of the _zero-th indexed_ of the set of keys."
   ]
  },
  {
   "cell_type": "code",
   "execution_count": 18,
   "metadata": {},
   "outputs": [],
   "source": [
    "key = !az storage account keys list --account-name $storage_account_name -g $resource_group --query '[0].value'"
   ]
  },
  {
   "cell_type": "markdown",
   "metadata": {},
   "source": [
    "The stdout from the command above is stored in a string array of 1. Select the element in the array and ttrip opening and closing quotation marks."
   ]
  },
  {
   "cell_type": "code",
   "execution_count": 19,
   "metadata": {},
   "outputs": [],
   "source": [
    "storage_account_key = str(key[0][1:-1]) # this is used to strip opening and closing quotation marks"
   ]
  },
  {
   "cell_type": "markdown",
   "metadata": {},
   "source": [
    "The container in the storage account is a logical container for individual blobs. For this project, we'll store all content into a single container for ease-of-use.\n",
    "1. Select a name for your storage container and assign it to the variable `azure_container_name`\n",
    "2. Use the __az cli__ to create the container in the storage account"
   ]
  },
  {
   "cell_type": "code",
   "execution_count": 20,
   "metadata": {},
   "outputs": [],
   "source": [
    "azure_container_name = \"batchai\""
   ]
  },
  {
   "cell_type": "code",
   "execution_count": 21,
   "metadata": {},
   "outputs": [
    {
     "name": "stdout",
     "output_type": "stream",
     "text": [
      "{\r\n",
      "  \"created\": true\r\n",
      "}\r\n"
     ]
    }
   ],
   "source": [
    "!az storage container create --account-name $storage_account_name --account-key $storage_account_key --name $azure_container_name"
   ]
  },
  {
   "cell_type": "markdown",
   "metadata": {},
   "source": [
    "Since we'll be using these settings throughout this tutorial, we'll also same them to the `.env` file."
   ]
  },
  {
   "cell_type": "code",
   "execution_count": 22,
   "metadata": {},
   "outputs": [
    {
     "name": "stdout",
     "output_type": "stream",
     "text": [
      "STORAGE_ACCOUNT_NAME=jiatabsdlstorage\n",
      "STORAGE_ACCOUNT_KEY=Uj3LQejqdUARyvMSwosKlfo/DQVF1anZ6P9sejxNpKmVcOHrVCg9mEm+kznDBoIc3oGH6hD/XLvRKkA8+WZCJA==\n",
      "AZURE_CONTAINER_NAME=batchai\n"
     ]
    }
   ],
   "source": [
    "!dotenv set STORAGE_ACCOUNT_NAME $storage_account_name\n",
    "!dotenv set STORAGE_ACCOUNT_KEY $storage_account_key\n",
    "!dotenv set AZURE_CONTAINER_NAME $azure_container_name"
   ]
  },
  {
   "cell_type": "markdown",
   "metadata": {},
   "source": [
    "---"
   ]
  },
  {
   "cell_type": "markdown",
   "metadata": {},
   "source": [
    "## Conclusion\n",
    "In this notebook, we've setup a service principal which gives us authentication to create resources in Azure. We've also create a storage account which will use throughout the rest of this tutorial. Next, we're going to [create our Batch AI cluster and run our work at scale in the cloud.](04_run_style_transfer_at_scale.ipynb)"
   ]
  }
 ],
 "metadata": {
  "kernelspec": {
   "display_name": "Python [conda env:batchscoringdl]",
   "language": "python",
   "name": "conda-env-batchscoringdl-py"
  },
  "language_info": {
   "codemirror_mode": {
    "name": "ipython",
    "version": 3
   },
   "file_extension": ".py",
   "mimetype": "text/x-python",
   "name": "python",
   "nbconvert_exporter": "python",
   "pygments_lexer": "ipython3",
   "version": "3.6.6"
  }
 },
 "nbformat": 4,
 "nbformat_minor": 2
}
